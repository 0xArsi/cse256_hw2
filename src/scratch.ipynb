{
 "cells": [
  {
   "cell_type": "markdown",
   "metadata": {},
   "source": [
    "## Resources\n",
    "tutorial: https://www.youtube.com/watch?v=kCc8FmEb1nY"
   ]
  },
  {
   "cell_type": "code",
   "execution_count": 2,
   "metadata": {},
   "outputs": [],
   "source": [
    "import torch\n",
    "import torch.nn.functional as F\n",
    "import torch.optim as optim\n",
    "import torch.nn as nn\n",
    "from torch.utils.data.dataloader import DataLoader\n",
    "\n",
    "import numpy as np\n",
    "import pandas as pd\n",
    "\n",
    "import matplotlib\n",
    "import matplotlib.pyplot as plt\n",
    "\n",
    "device = torch.device(\"cuda\" if torch.cuda.is_available() else \"cpu\")\n",
    "from tokenizer import SimpleTokenizer\n",
    "torch.manual_seed(1337)\n",
    "from dataset import SpeechesClassificationDataset\n",
    "from tokenizer import SimpleTokenizer\n",
    "\n",
    "from utilities import *\n",
    "\n",
    "from hyperparams import *\n",
    "\n",
    "import nltk\n",
    "\n",
    "from transformer import CustomTransformerDecoder, CustomTransformerEncoder\n",
    "\n",
    "from ray import train, tune\n",
    "# nltk.download('punkt', download_dir=\"../data/nltk_punkt\")\n",
    "# nltk.data.path.append(\"../data/nltk_punkt\")"
   ]
  },
  {
   "cell_type": "markdown",
   "metadata": {},
   "source": [
    "## Tutorial Scratch Space"
   ]
  },
  {
   "cell_type": "markdown",
   "metadata": {},
   "source": [
    "#### Self-Attention"
   ]
  },
  {
   "cell_type": "code",
   "execution_count": 16,
   "metadata": {},
   "outputs": [
    {
     "data": {
      "text/plain": [
       "torch.Size([4, 8, 2])"
      ]
     },
     "execution_count": 16,
     "metadata": {},
     "output_type": "execute_result"
    }
   ],
   "source": [
    "torch.manual_seed(1337)\n",
    "# batch size, embedding\n",
    "#every token here has a two dimensional embedding\n",
    "#8 tokens per batch (8x2 matrices)\n",
    "# 4 batches \n",
    "B, T, C = 4, 8, 2\n",
    "x = torch.randn(B, T, C)\n",
    "x.shape"
   ]
  },
  {
   "cell_type": "markdown",
   "metadata": {},
   "source": [
    "## HW2 Scratch Space"
   ]
  },
  {
   "cell_type": "code",
   "execution_count": 17,
   "metadata": {},
   "outputs": [],
   "source": [
    "with open(\"../data/speechesdataset/train_LM.txt\", \"r\") as f:\n",
    "    text = f.read()\n",
    "\n",
    "\n",
    "# scd = SpeechesClassificationDataset(tokenizer=tok, file_path=\"data/train_CLS.tsv\")"
   ]
  },
  {
   "cell_type": "code",
   "execution_count": 18,
   "metadata": {},
   "outputs": [],
   "source": [
    "tok = SimpleTokenizer(text=text)"
   ]
  },
  {
   "cell_type": "markdown",
   "metadata": {},
   "source": [
    "### Positional Encoding"
   ]
  },
  {
   "cell_type": "code",
   "execution_count": 19,
   "metadata": {},
   "outputs": [
    {
     "name": "stdout",
     "output_type": "stream",
     "text": [
      "Loading data and creating tokenizer ...\n",
      "Vocabulary size is 5755\n"
     ]
    }
   ],
   "source": [
    "data_dir = os.path.join(\"..\", \"data\", \"speechesdataset\")\n",
    "print(\"Loading data and creating tokenizer ...\")\n",
    "texts = load_texts('../data/speechesdataset')\n",
    "tokenizer = SimpleTokenizer(' '.join(texts)) # create a tokenizer from the data\n",
    "print(\"Vocabulary size is\", tokenizer.vocab_size)\n",
    "\n",
    "train_CLS_dataset = SpeechesClassificationDataset(tokenizer, os.path.join(data_dir, \"train_CLS.tsv\"))\n",
    "train_CLS_loader = DataLoader(train_CLS_dataset, batch_size=batch_size,collate_fn=collate_batch,shuffle=True)\n",
    "\n",
    "vocab_size = tokenizer.vocab_size"
   ]
  },
  {
   "cell_type": "code",
   "execution_count": 20,
   "metadata": {},
   "outputs": [],
   "source": [
    "position = torch.arange(block_size).unsqueeze(1)\n",
    "div_term = torch.exp(torch.arange(0, n_embd, 2) * (-np.log(10000.0) / n_embd))\n",
    "embedding = nn.Embedding(vocab_size, n_embd)\n",
    "pe = torch.zeros(block_size, n_embd)\n",
    "pe[:, 0::2] = torch.sin(position * div_term)\n",
    "pe[:, 1::2] = torch.cos(position * div_term)"
   ]
  },
  {
   "cell_type": "code",
   "execution_count": 21,
   "metadata": {},
   "outputs": [
    {
     "data": {
      "text/plain": [
       "device(type='cuda')"
      ]
     },
     "execution_count": 21,
     "metadata": {},
     "output_type": "execute_result"
    }
   ],
   "source": [
    "device"
   ]
  },
  {
   "cell_type": "code",
   "execution_count": 22,
   "metadata": {},
   "outputs": [],
   "source": [
    "from transformer import CustomTransformerEncoder\n",
    "cte2 = CustomTransformerDecoder(device, vocab_size, n_embd, n_head, n_layer, n_hidden).to(device)"
   ]
  },
  {
   "cell_type": "code",
   "execution_count": 23,
   "metadata": {},
   "outputs": [],
   "source": [
    "# plot_dir = os.path.join(\"..\", \"data\",\"plots\", \"part1\")\n",
    "# u = Utilities(tokenizer, cte_trained, plot_dir, device)\n",
    "# u.sanity_check(\"The quick brown fox jumped over the lazy dog.\", block_size=block_size)\n",
    "# u.sanity_check(\"Doing the same thing and expecting different results is insanity.\", block_size=block_size)"
   ]
  },
  {
   "cell_type": "code",
   "execution_count": 24,
   "metadata": {},
   "outputs": [],
   "source": [
    "sentence = \"The quick brown fox jumped over the lazy dog.\"\n",
    "encoding = tokenizer.encode(sentence)"
   ]
  },
  {
   "cell_type": "code",
   "execution_count": 25,
   "metadata": {},
   "outputs": [],
   "source": [
    "padded_sentence = encoding[:block_size] + [0] * (block_size - len(encoding))"
   ]
  },
  {
   "cell_type": "code",
   "execution_count": 26,
   "metadata": {},
   "outputs": [],
   "source": [
    "input_tensor = torch.tensor(padded_sentence, dtype=torch.long).unsqueeze(0).to(device)"
   ]
  },
  {
   "cell_type": "code",
   "execution_count": 27,
   "metadata": {},
   "outputs": [
    {
     "data": {
      "text/plain": [
       "(tensor([[nan, nan, nan,  ..., nan, nan, nan]], device='cuda:0',\n",
       "        grad_fn=<AddmmBackward0>),\n",
       " [tensor([[[0.0000, 0.0292, 0.0193,  ..., 0.0236, 0.0279, 0.0273],\n",
       "           [0.0000, 0.0000, 0.0363,  ..., 0.0395, 0.0413, 0.0343],\n",
       "           [0.0000, 0.0000, 0.0000,  ..., 0.0378, 0.0344, 0.0329],\n",
       "           ...,\n",
       "           [0.0000, 0.0000, 0.0000,  ..., 0.0000, 0.4417, 0.5583],\n",
       "           [0.0000, 0.0000, 0.0000,  ..., 0.0000, 0.0000, 1.0000],\n",
       "           [   nan,    nan,    nan,  ...,    nan,    nan,    nan]]],\n",
       "         device='cuda:0', grad_fn=<SoftmaxBackward0>),\n",
       "  tensor([[[nan, nan, nan,  ..., nan, nan, nan],\n",
       "           [nan, nan, nan,  ..., nan, nan, nan],\n",
       "           [nan, nan, nan,  ..., nan, nan, nan],\n",
       "           ...,\n",
       "           [nan, nan, nan,  ..., nan, nan, nan],\n",
       "           [nan, nan, nan,  ..., nan, nan, nan],\n",
       "           [nan, nan, nan,  ..., nan, nan, nan]]], device='cuda:0',\n",
       "         grad_fn=<SoftmaxBackward0>),\n",
       "  tensor([[[nan, nan, nan,  ..., nan, nan, nan],\n",
       "           [nan, nan, nan,  ..., nan, nan, nan],\n",
       "           [nan, nan, nan,  ..., nan, nan, nan],\n",
       "           ...,\n",
       "           [nan, nan, nan,  ..., nan, nan, nan],\n",
       "           [nan, nan, nan,  ..., nan, nan, nan],\n",
       "           [nan, nan, nan,  ..., nan, nan, nan]]], device='cuda:0',\n",
       "         grad_fn=<SoftmaxBackward0>),\n",
       "  tensor([[[nan, nan, nan,  ..., nan, nan, nan],\n",
       "           [nan, nan, nan,  ..., nan, nan, nan],\n",
       "           [nan, nan, nan,  ..., nan, nan, nan],\n",
       "           ...,\n",
       "           [nan, nan, nan,  ..., nan, nan, nan],\n",
       "           [nan, nan, nan,  ..., nan, nan, nan],\n",
       "           [nan, nan, nan,  ..., nan, nan, nan]]], device='cuda:0',\n",
       "         grad_fn=<SoftmaxBackward0>)])"
      ]
     },
     "execution_count": 27,
     "metadata": {},
     "output_type": "execute_result"
    }
   ],
   "source": [
    "cte2(input_tensor)"
   ]
  },
  {
   "cell_type": "code",
   "execution_count": 76,
   "metadata": {},
   "outputs": [],
   "source": [
    "x = torch.Tensor([[1, 2, 3], [4, 5, 6], [7, 8, 9]])\n",
    "mask = torch.Tensor([[1, 0, 0], [0, 1, 1], [0, 1, 0]]).to(torch.bool)"
   ]
  },
  {
   "cell_type": "code",
   "execution_count": 77,
   "metadata": {},
   "outputs": [],
   "source": [
    "x = x.masked_fill(mask, float(\"-inf\"))"
   ]
  },
  {
   "cell_type": "code",
   "execution_count": 78,
   "metadata": {},
   "outputs": [
    {
     "data": {
      "text/plain": [
       "tensor([[-inf, 2., 3.],\n",
       "        [4., -inf, -inf],\n",
       "        [7., -inf, 9.]])"
      ]
     },
     "execution_count": 78,
     "metadata": {},
     "output_type": "execute_result"
    }
   ],
   "source": [
    "x"
   ]
  },
  {
   "cell_type": "code",
   "execution_count": 79,
   "metadata": {},
   "outputs": [],
   "source": [
    "t = torch.tril(torch.ones(x.size(), dtype=torch.bool))"
   ]
  },
  {
   "cell_type": "code",
   "execution_count": 80,
   "metadata": {},
   "outputs": [
    {
     "data": {
      "text/plain": [
       "tensor([[ True, False, False],\n",
       "        [ True,  True, False],\n",
       "        [ True,  True,  True]])"
      ]
     },
     "execution_count": 80,
     "metadata": {},
     "output_type": "execute_result"
    }
   ],
   "source": [
    "t"
   ]
  },
  {
   "cell_type": "code",
   "execution_count": 81,
   "metadata": {},
   "outputs": [
    {
     "data": {
      "text/plain": [
       "tensor([[36.,  2.,  3.],\n",
       "        [36., 36., -inf],\n",
       "        [36., 36., 36.]])"
      ]
     },
     "execution_count": 81,
     "metadata": {},
     "output_type": "execute_result"
    }
   ],
   "source": [
    "x.masked_fill(t, 36)"
   ]
  },
  {
   "cell_type": "markdown",
   "metadata": {},
   "source": [
    "### Plotting"
   ]
  },
  {
   "cell_type": "code",
   "execution_count": null,
   "metadata": {},
   "outputs": [],
   "source": [
    "# # Plotting\n",
    "\n",
    "# #\n",
    "# plt.figure(figsize=(10, 5))\n",
    "\n",
    "# # Plot Loss\n",
    "# plt.subplot(1, 2, 1)\n",
    "# plt.plot(df['epoch'], df['loss'], label='Loss', color='blue')\n",
    "# plt.title('Loss vs Epoch')\n",
    "# plt.xlabel('Epoch')\n",
    "# plt.ylabel('Loss')\n",
    "# plt.legend()"
   ]
  }
 ],
 "metadata": {
  "kernelspec": {
   "display_name": "prob-env",
   "language": "python",
   "name": "python3"
  },
  "language_info": {
   "codemirror_mode": {
    "name": "ipython",
    "version": 3
   },
   "file_extension": ".py",
   "mimetype": "text/x-python",
   "name": "python",
   "nbconvert_exporter": "python",
   "pygments_lexer": "ipython3",
   "version": "3.11.9"
  }
 },
 "nbformat": 4,
 "nbformat_minor": 2
}
