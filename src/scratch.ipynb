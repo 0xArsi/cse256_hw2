{
 "cells": [
  {
   "cell_type": "markdown",
   "metadata": {},
   "source": [
    "## Resources\n",
    "tutorial: https://www.youtube.com/watch?v=kCc8FmEb1nY"
   ]
  },
  {
   "cell_type": "code",
   "execution_count": 1,
   "metadata": {},
   "outputs": [],
   "source": [
    "import torch\n",
    "import torch.nn.functional as F\n",
    "import torch.optim as optim\n",
    "import torch.nn as nn\n",
    "\n",
    "import numpy as np\n",
    "import pandas as pd\n",
    "\n",
    "import matplotlib\n",
    "import matplotlib.pyplot as plt\n",
    "\n",
    "device = torch.device(\"cuda\" if torch.cuda.is_available() else \"cpu\")\n",
    "from tokenizer import SimpleTokenizer\n",
    "torch.manual_seed(1337)\n",
    "from dataset import SpeechesClassificationDataset\n",
    "from tokenizer import SimpleTokenizer\n",
    "\n",
    "from utilities import Utilities\n",
    "\n",
    "import nltk\n",
    "# nltk.download('punkt', download_dir=\"../data/nltk_punkt\")\n",
    "# nltk.data.path.append(\"../data/nltk_punkt\")"
   ]
  },
  {
   "cell_type": "markdown",
   "metadata": {},
   "source": [
    "## Tutorial Scratch Space"
   ]
  },
  {
   "cell_type": "markdown",
   "metadata": {},
   "source": [
    "#### Self-Attention"
   ]
  },
  {
   "cell_type": "code",
   "execution_count": 2,
   "metadata": {},
   "outputs": [
    {
     "data": {
      "text/plain": [
       "torch.Size([4, 8, 2])"
      ]
     },
     "execution_count": 2,
     "metadata": {},
     "output_type": "execute_result"
    }
   ],
   "source": [
    "torch.manual_seed(1337)\n",
    "# batch size, embedding\n",
    "#every token here has a two dimensional embedding\n",
    "#8 tokens per batch (8x2 matrices)\n",
    "# 4 batches \n",
    "B, T, C = 4, 8, 2\n",
    "x = torch.randn(B, T, C)\n",
    "x.shape"
   ]
  },
  {
   "cell_type": "code",
   "execution_count": null,
   "metadata": {},
   "outputs": [],
   "source": []
  },
  {
   "cell_type": "markdown",
   "metadata": {},
   "source": [
    "## HW2 Scratch Space"
   ]
  },
  {
   "cell_type": "code",
   "execution_count": 3,
   "metadata": {},
   "outputs": [],
   "source": [
    "\n",
    "seed = 42\n",
    "\"\"\" Hyperparameters to use for training to roughly match \n",
    "the numbers mentioned in the assignment description \"\"\"\n",
    "batch_size = 16  # Number of independent sequences  we will process in parallel\n",
    "block_size = 32  # Maximum context length for predictions\n",
    "learning_rate = 1e-3  # Learning rate for the optimizer\n",
    "n_embd = 64  # Embedding dimension\n",
    "n_head = 2  # Number of attention heads\n",
    "n_layer = 4  # Number of transformer layers\n",
    "\n",
    "\n",
    "eval_interval = 100  # How often to evaluate train and test perplexity during training\n",
    "max_iters = 500 # For language modeling, we can process all the batches for the entire dataset, but that takes a while, so we'll limit it to 500 iterations. For batch size of 16 and block size of  32, this is roughly, this is  500 * 16 * 32 = 256000 tokens, SOTA LMs are trained on trillions of tokens, so this is a very small dataset.\n",
    "eval_iters = 200  # Number of iterations to evaluate perplexity on the test set\n",
    "\n",
    "\n",
    "## classifier training hyperparameters. It is a simple 1 hidden layer feedforward network, with input \n",
    "## size of 64, hidden size of 50 and output size of 3.\n",
    "\n",
    "n_input = 64  # Input size for the classifier, should match the embedding size of the transformer\n",
    "n_hidden = 100  # Hidden size for the classifier\n",
    "n_output = 3  # Output size for the classifier, we have 3 classes\n",
    "epochs_CLS = 15 # epochs for classifier training"
   ]
  },
  {
   "cell_type": "code",
   "execution_count": 4,
   "metadata": {},
   "outputs": [],
   "source": [
    "with open(\"../data/speechesdataset/train_LM.txt\", \"r\") as f:\n",
    "    text = f.read()\n",
    "\n",
    "\n",
    "# scd = SpeechesClassificationDataset(tokenizer=tok, file_path=\"data/train_CLS.tsv\")"
   ]
  },
  {
   "cell_type": "code",
   "execution_count": 5,
   "metadata": {},
   "outputs": [],
   "source": [
    "tok = SimpleTokenizer(text=text)"
   ]
  },
  {
   "cell_type": "markdown",
   "metadata": {},
   "source": [
    "### Positional Encoding"
   ]
  },
  {
   "cell_type": "code",
   "execution_count": 6,
   "metadata": {},
   "outputs": [
    {
     "name": "stdout",
     "output_type": "stream",
     "text": [
      "device: cuda\n",
      "Loading data and creating tokenizer ...\n",
      "Vocabulary size is 5755\n"
     ]
    }
   ],
   "source": [
    "#LOAD DATA\n",
    "import os\n",
    "from main import load_texts, DataLoader, collate_batch, LanguageModelingDataset\n",
    "data_dir = os.path.join(\"..\", \"data\", \"speechesdataset\")\n",
    "print(\"Loading data and creating tokenizer ...\")\n",
    "texts = load_texts('../data/speechesdataset')\n",
    "tokenizer = SimpleTokenizer(' '.join(texts)) # create a tokenizer from the data\n",
    "print(\"Vocabulary size is\", tokenizer.vocab_size)\n",
    "\n",
    "train_CLS_dataset = SpeechesClassificationDataset(tokenizer, os.path.join(data_dir, \"train_CLS.tsv\"))\n",
    "train_CLS_loader = DataLoader(train_CLS_dataset, batch_size=batch_size,collate_fn=collate_batch,shuffle=True)\n",
    "\n",
    "vocab_size = tokenizer.vocab_size"
   ]
  },
  {
   "cell_type": "code",
   "execution_count": 7,
   "metadata": {},
   "outputs": [],
   "source": [
    "position = torch.arange(block_size).unsqueeze(1)\n",
    "div_term = torch.exp(torch.arange(0, n_embd, 2) * (-np.log(10000.0) / n_embd))\n",
    "embedding = nn.Embedding(vocab_size, n_embd)\n",
    "pe = torch.zeros(block_size, n_embd)\n",
    "pe[:, 0::2] = torch.sin(position * div_term)\n",
    "pe[:, 1::2] = torch.cos(position * div_term)"
   ]
  },
  {
   "cell_type": "code",
   "execution_count": 8,
   "metadata": {},
   "outputs": [],
   "source": [
    "from transformer import CustomTransformerEncoder\n",
    "cte_trained = CustomTransformerEncoder(device, vocab_size, block_size, n_embd, n_head, n_layer, n_hidden, n_output).to(device)"
   ]
  },
  {
   "cell_type": "code",
   "execution_count": 9,
   "metadata": {},
   "outputs": [],
   "source": [
    "# plot_dir = os.path.join(\"..\", \"data\",\"plots\", \"part1\")\n",
    "# u = Utilities(tokenizer, cte_trained, plot_dir, device)\n",
    "# u.sanity_check(\"The quick brown fox jumped over the lazy dog.\", block_size=block_size)\n",
    "# u.sanity_check(\"Doing the same thing and expecting different results is insanity.\", block_size=block_size)"
   ]
  },
  {
   "cell_type": "code",
   "execution_count": 10,
   "metadata": {},
   "outputs": [],
   "source": [
    "sentence = \"The quick brown fox jumped over the lazy dog.\"\n",
    "encoding = tokenizer.encode(sentence)"
   ]
  },
  {
   "cell_type": "code",
   "execution_count": 11,
   "metadata": {},
   "outputs": [],
   "source": [
    "padded_sentence = encoding[:block_size] + [0] * (block_size - len(encoding))"
   ]
  },
  {
   "cell_type": "code",
   "execution_count": 12,
   "metadata": {},
   "outputs": [],
   "source": [
    "input_tensor = torch.tensor(padded_sentence, dtype=torch.long).unsqueeze(0).to(device)"
   ]
  },
  {
   "cell_type": "code",
   "execution_count": 13,
   "metadata": {},
   "outputs": [
    {
     "data": {
      "text/plain": [
       "<All keys matched successfully>"
      ]
     },
     "execution_count": 13,
     "metadata": {},
     "output_type": "execute_result"
    }
   ],
   "source": [
    "cte2 = CustomTransformerEncoder(device, vocab_size, block_size, n_embd, n_head, n_layer, n_hidden, n_output).to(device)\n",
    "\n",
    "cte2.load_state_dict(torch.load(\"../data/models/transformer_encoder.pt\"))"
   ]
  },
  {
   "cell_type": "code",
   "execution_count": 15,
   "metadata": {},
   "outputs": [
    {
     "name": "stdout",
     "output_type": "stream",
     "text": [
      "Loading data and creating tokenizer ...\n",
      "Vocabulary size is 5755\n"
     ]
    },
    {
     "data": {
      "text/plain": [
       "32.93333333333333"
      ]
     },
     "execution_count": 15,
     "metadata": {},
     "output_type": "execute_result"
    }
   ],
   "source": [
    "from main import compute_classifier_accuracy\n",
    "print(\"Loading data and creating tokenizer ...\")\n",
    "texts = load_texts(\"../data/speechesdataset\")\n",
    "tokenizer = SimpleTokenizer(' '.join(texts)) # create a tokenizer from the data\n",
    "print(\"Vocabulary size is\", tokenizer.vocab_size)\n",
    "\n",
    "test_CLS_dataset = SpeechesClassificationDataset(tokenizer, os.path.join(\"../data/speechesdataset\", \"test_CLS.tsv\"))\n",
    "test_CLS_loader = DataLoader(test_CLS_dataset, batch_size=batch_size,collate_fn=collate_batch,shuffle=True)\n",
    "\n",
    "compute_classifier_accuracy(cte2, test_CLS_loader, data_dir)"
   ]
  },
  {
   "cell_type": "code",
   "execution_count": 16,
   "metadata": {},
   "outputs": [
    {
     "data": {
      "text/plain": [
       "OrderedDict()"
      ]
     },
     "execution_count": 16,
     "metadata": {},
     "output_type": "execute_result"
    }
   ],
   "source": [
    "cte2._parameters"
   ]
  },
  {
   "cell_type": "markdown",
   "metadata": {},
   "source": [
    "### Plotting"
   ]
  },
  {
   "cell_type": "code",
   "execution_count": null,
   "metadata": {},
   "outputs": [
    {
     "data": {
      "text/plain": [
       "<matplotlib.legend.Legend at 0x7fa6d8c05e80>"
      ]
     },
     "execution_count": 27,
     "metadata": {},
     "output_type": "execute_result"
    },
    {
     "data": {
      "image/png": "[encoded data removed]",
      "text/plain": [
       "<Figure size 1000x500 with 1 Axes>"
      ]
     },
     "metadata": {},
     "output_type": "display_data"
    }
   ],
   "source": [
    "# Plotting\n",
    "plt.figure(figsize=(10, 5))\n",
    "\n",
    "# Plot Loss\n",
    "plt.subplot(1, 2, 1)\n",
    "plt.plot(df['epoch'], df['loss'], label='Loss', color='blue')\n",
    "plt.title('Loss vs Epoch')\n",
    "plt.xlabel('Epoch')\n",
    "plt.ylabel('Loss')\n",
    "plt.legend()"
   ]
  }
 ],
 "metadata": {
  "kernelspec": {
   "display_name": "prob-env",
   "language": "python",
   "name": "python3"
  },
  "language_info": {
   "codemirror_mode": {
    "name": "ipython",
    "version": 3
   },
   "file_extension": ".py",
   "mimetype": "text/x-python",
   "name": "python",
   "nbconvert_exporter": "python",
   "pygments_lexer": "ipython3",
   "version": "3.12.1"
  }
 },
 "nbformat": 4,
 "nbformat_minor": 2
}
